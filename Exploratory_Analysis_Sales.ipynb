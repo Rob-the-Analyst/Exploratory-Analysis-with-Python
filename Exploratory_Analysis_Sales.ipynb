{
 "cells": [
  {
   "cell_type": "markdown",
   "id": "4f4df001-81ce-48ad-8f62-04caa1b13899",
   "metadata": {},
   "source": [
    "### Import Libraries"
   ]
  },
  {
   "cell_type": "code",
   "execution_count": 1,
   "id": "d653b6aa-161f-4a26-be24-25201a37ed31",
   "metadata": {},
   "outputs": [],
   "source": [
    "import pandas as pd\n",
    "import seaborn as sns\n",
    "import matplotlib.pyplot as plt"
   ]
  },
  {
   "cell_type": "markdown",
   "id": "7c192f7a-412e-441c-ae48-dbce0e7e475c",
   "metadata": {},
   "source": [
    "# Import data to Pandas Dataframe"
   ]
  },
  {
   "cell_type": "code",
   "execution_count": 2,
   "id": "ac9ec9cc-0115-4d0f-b7a8-7acc63d8e626",
   "metadata": {},
   "outputs": [
    {
     "data": {
      "text/html": [
       "<div>\n",
       "<style scoped>\n",
       "    .dataframe tbody tr th:only-of-type {\n",
       "        vertical-align: middle;\n",
       "    }\n",
       "\n",
       "    .dataframe tbody tr th {\n",
       "        vertical-align: top;\n",
       "    }\n",
       "\n",
       "    .dataframe thead th {\n",
       "        text-align: right;\n",
       "    }\n",
       "</style>\n",
       "<table border=\"1\" class=\"dataframe\">\n",
       "  <thead>\n",
       "    <tr style=\"text-align: right;\">\n",
       "      <th></th>\n",
       "      <th>Index</th>\n",
       "      <th>Price</th>\n",
       "      <th>Currency</th>\n",
       "      <th>Condition</th>\n",
       "      <th>Vehicle_brand</th>\n",
       "      <th>Vehicle_model</th>\n",
       "      <th>Vehicle_version</th>\n",
       "      <th>Vehicle_generation</th>\n",
       "      <th>Production_year</th>\n",
       "      <th>Mileage_km</th>\n",
       "      <th>...</th>\n",
       "      <th>Transmission</th>\n",
       "      <th>Type</th>\n",
       "      <th>Doors_number</th>\n",
       "      <th>Colour</th>\n",
       "      <th>Origin_country</th>\n",
       "      <th>First_owner</th>\n",
       "      <th>First_registration_date</th>\n",
       "      <th>Offer_publication_date</th>\n",
       "      <th>Offer_location</th>\n",
       "      <th>Features</th>\n",
       "    </tr>\n",
       "  </thead>\n",
       "  <tbody>\n",
       "    <tr>\n",
       "      <th>0</th>\n",
       "      <td>0</td>\n",
       "      <td>86200</td>\n",
       "      <td>PLN</td>\n",
       "      <td>New</td>\n",
       "      <td>Abarth</td>\n",
       "      <td>595</td>\n",
       "      <td>NaN</td>\n",
       "      <td>NaN</td>\n",
       "      <td>2021</td>\n",
       "      <td>1.0</td>\n",
       "      <td>...</td>\n",
       "      <td>Manual</td>\n",
       "      <td>small_cars</td>\n",
       "      <td>3.0</td>\n",
       "      <td>gray</td>\n",
       "      <td>NaN</td>\n",
       "      <td>NaN</td>\n",
       "      <td>NaN</td>\n",
       "      <td>04/05/2021</td>\n",
       "      <td>ul. Jubilerska 6 - 04-190 Warszawa, Mazowiecki...</td>\n",
       "      <td>[]</td>\n",
       "    </tr>\n",
       "    <tr>\n",
       "      <th>1</th>\n",
       "      <td>1</td>\n",
       "      <td>43500</td>\n",
       "      <td>PLN</td>\n",
       "      <td>Used</td>\n",
       "      <td>Abarth</td>\n",
       "      <td>Other</td>\n",
       "      <td>NaN</td>\n",
       "      <td>NaN</td>\n",
       "      <td>1974</td>\n",
       "      <td>59000.0</td>\n",
       "      <td>...</td>\n",
       "      <td>Manual</td>\n",
       "      <td>coupe</td>\n",
       "      <td>2.0</td>\n",
       "      <td>silver</td>\n",
       "      <td>NaN</td>\n",
       "      <td>NaN</td>\n",
       "      <td>NaN</td>\n",
       "      <td>03/05/2021</td>\n",
       "      <td>kanonierska12 - 04-425 Warszawa, Rembertów (Po...</td>\n",
       "      <td>[]</td>\n",
       "    </tr>\n",
       "    <tr>\n",
       "      <th>2</th>\n",
       "      <td>2</td>\n",
       "      <td>44900</td>\n",
       "      <td>PLN</td>\n",
       "      <td>Used</td>\n",
       "      <td>Abarth</td>\n",
       "      <td>500</td>\n",
       "      <td>NaN</td>\n",
       "      <td>NaN</td>\n",
       "      <td>2018</td>\n",
       "      <td>52000.0</td>\n",
       "      <td>...</td>\n",
       "      <td>Automatic</td>\n",
       "      <td>small_cars</td>\n",
       "      <td>3.0</td>\n",
       "      <td>silver</td>\n",
       "      <td>NaN</td>\n",
       "      <td>NaN</td>\n",
       "      <td>NaN</td>\n",
       "      <td>03/05/2021</td>\n",
       "      <td>Warszawa, Mazowieckie, Białołęka</td>\n",
       "      <td>['ABS', 'Electric front windows', 'Drivers air...</td>\n",
       "    </tr>\n",
       "    <tr>\n",
       "      <th>3</th>\n",
       "      <td>3</td>\n",
       "      <td>39900</td>\n",
       "      <td>PLN</td>\n",
       "      <td>Used</td>\n",
       "      <td>Abarth</td>\n",
       "      <td>500</td>\n",
       "      <td>NaN</td>\n",
       "      <td>NaN</td>\n",
       "      <td>2012</td>\n",
       "      <td>29000.0</td>\n",
       "      <td>...</td>\n",
       "      <td>Manual</td>\n",
       "      <td>small_cars</td>\n",
       "      <td>3.0</td>\n",
       "      <td>gray</td>\n",
       "      <td>NaN</td>\n",
       "      <td>NaN</td>\n",
       "      <td>NaN</td>\n",
       "      <td>30/04/2021</td>\n",
       "      <td>Jaworzno, Śląskie</td>\n",
       "      <td>['ABS', 'Electric front windows', 'Drivers air...</td>\n",
       "    </tr>\n",
       "    <tr>\n",
       "      <th>4</th>\n",
       "      <td>4</td>\n",
       "      <td>97900</td>\n",
       "      <td>PLN</td>\n",
       "      <td>New</td>\n",
       "      <td>Abarth</td>\n",
       "      <td>595</td>\n",
       "      <td>NaN</td>\n",
       "      <td>NaN</td>\n",
       "      <td>2021</td>\n",
       "      <td>600.0</td>\n",
       "      <td>...</td>\n",
       "      <td>Manual</td>\n",
       "      <td>small_cars</td>\n",
       "      <td>3.0</td>\n",
       "      <td>blue</td>\n",
       "      <td>NaN</td>\n",
       "      <td>NaN</td>\n",
       "      <td>NaN</td>\n",
       "      <td>30/04/2021</td>\n",
       "      <td>ul. Gorzysława 9 - 61-057 Poznań, Nowe Miasto ...</td>\n",
       "      <td>['ABS', 'Electrically adjustable mirrors', 'Pa...</td>\n",
       "    </tr>\n",
       "  </tbody>\n",
       "</table>\n",
       "<p>5 rows × 25 columns</p>\n",
       "</div>"
      ],
      "text/plain": [
       "   Index  Price Currency Condition Vehicle_brand Vehicle_model  \\\n",
       "0      0  86200      PLN       New        Abarth           595   \n",
       "1      1  43500      PLN      Used        Abarth         Other   \n",
       "2      2  44900      PLN      Used        Abarth           500   \n",
       "3      3  39900      PLN      Used        Abarth           500   \n",
       "4      4  97900      PLN       New        Abarth           595   \n",
       "\n",
       "  Vehicle_version Vehicle_generation  Production_year  Mileage_km  ...  \\\n",
       "0             NaN                NaN             2021         1.0  ...   \n",
       "1             NaN                NaN             1974     59000.0  ...   \n",
       "2             NaN                NaN             2018     52000.0  ...   \n",
       "3             NaN                NaN             2012     29000.0  ...   \n",
       "4             NaN                NaN             2021       600.0  ...   \n",
       "\n",
       "   Transmission        Type Doors_number  Colour Origin_country First_owner  \\\n",
       "0        Manual  small_cars          3.0    gray            NaN         NaN   \n",
       "1        Manual       coupe          2.0  silver            NaN         NaN   \n",
       "2     Automatic  small_cars          3.0  silver            NaN         NaN   \n",
       "3        Manual  small_cars          3.0    gray            NaN         NaN   \n",
       "4        Manual  small_cars          3.0    blue            NaN         NaN   \n",
       "\n",
       "  First_registration_date  Offer_publication_date  \\\n",
       "0                     NaN              04/05/2021   \n",
       "1                     NaN              03/05/2021   \n",
       "2                     NaN              03/05/2021   \n",
       "3                     NaN              30/04/2021   \n",
       "4                     NaN              30/04/2021   \n",
       "\n",
       "                                      Offer_location  \\\n",
       "0  ul. Jubilerska 6 - 04-190 Warszawa, Mazowiecki...   \n",
       "1  kanonierska12 - 04-425 Warszawa, Rembertów (Po...   \n",
       "2                   Warszawa, Mazowieckie, Białołęka   \n",
       "3                                  Jaworzno, Śląskie   \n",
       "4  ul. Gorzysława 9 - 61-057 Poznań, Nowe Miasto ...   \n",
       "\n",
       "                                            Features  \n",
       "0                                                 []  \n",
       "1                                                 []  \n",
       "2  ['ABS', 'Electric front windows', 'Drivers air...  \n",
       "3  ['ABS', 'Electric front windows', 'Drivers air...  \n",
       "4  ['ABS', 'Electrically adjustable mirrors', 'Pa...  \n",
       "\n",
       "[5 rows x 25 columns]"
      ]
     },
     "execution_count": 2,
     "metadata": {},
     "output_type": "execute_result"
    }
   ],
   "source": [
    "df = pd.read_csv('Car_sale_ads.csv')\n",
    "df.head()"
   ]
  },
  {
   "cell_type": "code",
   "execution_count": 3,
   "id": "9ca98889-54ed-48d5-baac-35aa5ba1bdee",
   "metadata": {},
   "outputs": [
    {
     "data": {
      "text/plain": [
       "(208304, 25)"
      ]
     },
     "execution_count": 3,
     "metadata": {},
     "output_type": "execute_result"
    }
   ],
   "source": [
    "df.shape"
   ]
  },
  {
   "cell_type": "markdown",
   "id": "8bdad5e8-7b4b-41e2-afa0-9bf642698ba9",
   "metadata": {},
   "source": [
    "## 1.1 Check data integrity and clean if neccesary"
   ]
  },
  {
   "cell_type": "markdown",
   "id": "542f5e82-564e-49ea-8258-e500feab7f5d",
   "metadata": {},
   "source": [
    "### Remove unneccesary columns"
   ]
  },
  {
   "cell_type": "code",
   "execution_count": 4,
   "id": "b80bd35c-be9b-4d5c-a7e2-0e8860f7ad50",
   "metadata": {},
   "outputs": [
    {
     "data": {
      "text/html": [
       "<div>\n",
       "<style scoped>\n",
       "    .dataframe tbody tr th:only-of-type {\n",
       "        vertical-align: middle;\n",
       "    }\n",
       "\n",
       "    .dataframe tbody tr th {\n",
       "        vertical-align: top;\n",
       "    }\n",
       "\n",
       "    .dataframe thead th {\n",
       "        text-align: right;\n",
       "    }\n",
       "</style>\n",
       "<table border=\"1\" class=\"dataframe\">\n",
       "  <thead>\n",
       "    <tr style=\"text-align: right;\">\n",
       "      <th></th>\n",
       "      <th>Price</th>\n",
       "      <th>Currency</th>\n",
       "      <th>Condition</th>\n",
       "      <th>Vehicle_brand</th>\n",
       "      <th>Vehicle_model</th>\n",
       "      <th>Vehicle_version</th>\n",
       "      <th>Vehicle_generation</th>\n",
       "      <th>Production_year</th>\n",
       "      <th>Mileage_km</th>\n",
       "      <th>Power_HP</th>\n",
       "      <th>...</th>\n",
       "      <th>Transmission</th>\n",
       "      <th>Type</th>\n",
       "      <th>Doors_number</th>\n",
       "      <th>Colour</th>\n",
       "      <th>Origin_country</th>\n",
       "      <th>First_owner</th>\n",
       "      <th>First_registration_date</th>\n",
       "      <th>Offer_publication_date</th>\n",
       "      <th>Offer_location</th>\n",
       "      <th>Features</th>\n",
       "    </tr>\n",
       "  </thead>\n",
       "  <tbody>\n",
       "    <tr>\n",
       "      <th>0</th>\n",
       "      <td>86200</td>\n",
       "      <td>PLN</td>\n",
       "      <td>New</td>\n",
       "      <td>Abarth</td>\n",
       "      <td>595</td>\n",
       "      <td>NaN</td>\n",
       "      <td>NaN</td>\n",
       "      <td>2021</td>\n",
       "      <td>1.0</td>\n",
       "      <td>145.0</td>\n",
       "      <td>...</td>\n",
       "      <td>Manual</td>\n",
       "      <td>small_cars</td>\n",
       "      <td>3.0</td>\n",
       "      <td>gray</td>\n",
       "      <td>NaN</td>\n",
       "      <td>NaN</td>\n",
       "      <td>NaN</td>\n",
       "      <td>04/05/2021</td>\n",
       "      <td>ul. Jubilerska 6 - 04-190 Warszawa, Mazowiecki...</td>\n",
       "      <td>[]</td>\n",
       "    </tr>\n",
       "    <tr>\n",
       "      <th>1</th>\n",
       "      <td>43500</td>\n",
       "      <td>PLN</td>\n",
       "      <td>Used</td>\n",
       "      <td>Abarth</td>\n",
       "      <td>Other</td>\n",
       "      <td>NaN</td>\n",
       "      <td>NaN</td>\n",
       "      <td>1974</td>\n",
       "      <td>59000.0</td>\n",
       "      <td>75.0</td>\n",
       "      <td>...</td>\n",
       "      <td>Manual</td>\n",
       "      <td>coupe</td>\n",
       "      <td>2.0</td>\n",
       "      <td>silver</td>\n",
       "      <td>NaN</td>\n",
       "      <td>NaN</td>\n",
       "      <td>NaN</td>\n",
       "      <td>03/05/2021</td>\n",
       "      <td>kanonierska12 - 04-425 Warszawa, Rembertów (Po...</td>\n",
       "      <td>[]</td>\n",
       "    </tr>\n",
       "    <tr>\n",
       "      <th>2</th>\n",
       "      <td>44900</td>\n",
       "      <td>PLN</td>\n",
       "      <td>Used</td>\n",
       "      <td>Abarth</td>\n",
       "      <td>500</td>\n",
       "      <td>NaN</td>\n",
       "      <td>NaN</td>\n",
       "      <td>2018</td>\n",
       "      <td>52000.0</td>\n",
       "      <td>180.0</td>\n",
       "      <td>...</td>\n",
       "      <td>Automatic</td>\n",
       "      <td>small_cars</td>\n",
       "      <td>3.0</td>\n",
       "      <td>silver</td>\n",
       "      <td>NaN</td>\n",
       "      <td>NaN</td>\n",
       "      <td>NaN</td>\n",
       "      <td>03/05/2021</td>\n",
       "      <td>Warszawa, Mazowieckie, Białołęka</td>\n",
       "      <td>['ABS', 'Electric front windows', 'Drivers air...</td>\n",
       "    </tr>\n",
       "    <tr>\n",
       "      <th>3</th>\n",
       "      <td>39900</td>\n",
       "      <td>PLN</td>\n",
       "      <td>Used</td>\n",
       "      <td>Abarth</td>\n",
       "      <td>500</td>\n",
       "      <td>NaN</td>\n",
       "      <td>NaN</td>\n",
       "      <td>2012</td>\n",
       "      <td>29000.0</td>\n",
       "      <td>160.0</td>\n",
       "      <td>...</td>\n",
       "      <td>Manual</td>\n",
       "      <td>small_cars</td>\n",
       "      <td>3.0</td>\n",
       "      <td>gray</td>\n",
       "      <td>NaN</td>\n",
       "      <td>NaN</td>\n",
       "      <td>NaN</td>\n",
       "      <td>30/04/2021</td>\n",
       "      <td>Jaworzno, Śląskie</td>\n",
       "      <td>['ABS', 'Electric front windows', 'Drivers air...</td>\n",
       "    </tr>\n",
       "    <tr>\n",
       "      <th>4</th>\n",
       "      <td>97900</td>\n",
       "      <td>PLN</td>\n",
       "      <td>New</td>\n",
       "      <td>Abarth</td>\n",
       "      <td>595</td>\n",
       "      <td>NaN</td>\n",
       "      <td>NaN</td>\n",
       "      <td>2021</td>\n",
       "      <td>600.0</td>\n",
       "      <td>165.0</td>\n",
       "      <td>...</td>\n",
       "      <td>Manual</td>\n",
       "      <td>small_cars</td>\n",
       "      <td>3.0</td>\n",
       "      <td>blue</td>\n",
       "      <td>NaN</td>\n",
       "      <td>NaN</td>\n",
       "      <td>NaN</td>\n",
       "      <td>30/04/2021</td>\n",
       "      <td>ul. Gorzysława 9 - 61-057 Poznań, Nowe Miasto ...</td>\n",
       "      <td>['ABS', 'Electrically adjustable mirrors', 'Pa...</td>\n",
       "    </tr>\n",
       "  </tbody>\n",
       "</table>\n",
       "<p>5 rows × 24 columns</p>\n",
       "</div>"
      ],
      "text/plain": [
       "   Price Currency Condition Vehicle_brand Vehicle_model Vehicle_version  \\\n",
       "0  86200      PLN       New        Abarth           595             NaN   \n",
       "1  43500      PLN      Used        Abarth         Other             NaN   \n",
       "2  44900      PLN      Used        Abarth           500             NaN   \n",
       "3  39900      PLN      Used        Abarth           500             NaN   \n",
       "4  97900      PLN       New        Abarth           595             NaN   \n",
       "\n",
       "  Vehicle_generation  Production_year  Mileage_km  Power_HP  ...  \\\n",
       "0                NaN             2021         1.0     145.0  ...   \n",
       "1                NaN             1974     59000.0      75.0  ...   \n",
       "2                NaN             2018     52000.0     180.0  ...   \n",
       "3                NaN             2012     29000.0     160.0  ...   \n",
       "4                NaN             2021       600.0     165.0  ...   \n",
       "\n",
       "   Transmission        Type  Doors_number  Colour Origin_country First_owner  \\\n",
       "0        Manual  small_cars           3.0    gray            NaN         NaN   \n",
       "1        Manual       coupe           2.0  silver            NaN         NaN   \n",
       "2     Automatic  small_cars           3.0  silver            NaN         NaN   \n",
       "3        Manual  small_cars           3.0    gray            NaN         NaN   \n",
       "4        Manual  small_cars           3.0    blue            NaN         NaN   \n",
       "\n",
       "   First_registration_date Offer_publication_date  \\\n",
       "0                      NaN             04/05/2021   \n",
       "1                      NaN             03/05/2021   \n",
       "2                      NaN             03/05/2021   \n",
       "3                      NaN             30/04/2021   \n",
       "4                      NaN             30/04/2021   \n",
       "\n",
       "                                      Offer_location  \\\n",
       "0  ul. Jubilerska 6 - 04-190 Warszawa, Mazowiecki...   \n",
       "1  kanonierska12 - 04-425 Warszawa, Rembertów (Po...   \n",
       "2                   Warszawa, Mazowieckie, Białołęka   \n",
       "3                                  Jaworzno, Śląskie   \n",
       "4  ul. Gorzysława 9 - 61-057 Poznań, Nowe Miasto ...   \n",
       "\n",
       "                                            Features  \n",
       "0                                                 []  \n",
       "1                                                 []  \n",
       "2  ['ABS', 'Electric front windows', 'Drivers air...  \n",
       "3  ['ABS', 'Electric front windows', 'Drivers air...  \n",
       "4  ['ABS', 'Electrically adjustable mirrors', 'Pa...  \n",
       "\n",
       "[5 rows x 24 columns]"
      ]
     },
     "execution_count": 4,
     "metadata": {},
     "output_type": "execute_result"
    }
   ],
   "source": [
    "df = df.drop(['Index'], axis=1)\n",
    "df.head()"
   ]
  },
  {
   "cell_type": "markdown",
   "id": "03840be7-7c57-4d96-bc23-49ae6c5b982e",
   "metadata": {},
   "source": [
    "### Check for null values"
   ]
  },
  {
   "cell_type": "code",
   "execution_count": 5,
   "id": "b48708bc-cf89-45e5-864e-33f134d21f6b",
   "metadata": {},
   "outputs": [
    {
     "data": {
      "text/plain": [
       "Price                           0\n",
       "Currency                        0\n",
       "Condition                       0\n",
       "Vehicle_brand                   0\n",
       "Vehicle_model                   0\n",
       "Vehicle_version             70222\n",
       "Vehicle_generation          60444\n",
       "Production_year                 0\n",
       "Mileage_km                    983\n",
       "Power_HP                      643\n",
       "Displacement_cm3             1966\n",
       "Fuel_type                       0\n",
       "CO2_emissions              114257\n",
       "Drive                       15076\n",
       "Transmission                  479\n",
       "Type                            0\n",
       "Doors_number                 1487\n",
       "Colour                          0\n",
       "Origin_country              89992\n",
       "First_owner                143210\n",
       "First_registration_date    121859\n",
       "Offer_publication_date          0\n",
       "Offer_location                  0\n",
       "Features                        0\n",
       "dtype: int64"
      ]
     },
     "execution_count": 5,
     "metadata": {},
     "output_type": "execute_result"
    }
   ],
   "source": [
    "df.isnull().sum()"
   ]
  },
  {
   "cell_type": "markdown",
   "id": "f5af0991-6311-4989-b34a-48997fcff8a3",
   "metadata": {},
   "source": [
    "There are multiple instances of null values over several columns. To enable some basic analysis, NaN values in columns with continuous data will be replaced with the mean value for that column. "
   ]
  },
  {
   "cell_type": "code",
   "execution_count": 6,
   "id": "038c7735-557a-44c6-a464-debeb880335f",
   "metadata": {},
   "outputs": [
    {
     "data": {
      "text/plain": [
       "Price                           0\n",
       "Currency                        0\n",
       "Condition                       0\n",
       "Vehicle_brand                   0\n",
       "Vehicle_model                   0\n",
       "Vehicle_version             70222\n",
       "Vehicle_generation          60444\n",
       "Production_year                 0\n",
       "Mileage_km                      0\n",
       "Power_HP                        0\n",
       "Displacement_cm3             1966\n",
       "Fuel_type                       0\n",
       "CO2_emissions              114257\n",
       "Drive                       15076\n",
       "Transmission                  479\n",
       "Type                            0\n",
       "Doors_number                 1487\n",
       "Colour                          0\n",
       "Origin_country              89992\n",
       "First_owner                143210\n",
       "First_registration_date    121859\n",
       "Offer_publication_date          0\n",
       "Offer_location                  0\n",
       "Features                        0\n",
       "dtype: int64"
      ]
     },
     "execution_count": 6,
     "metadata": {},
     "output_type": "execute_result"
    }
   ],
   "source": [
    "df['Mileage_km'] = df['Mileage_km'].fillna(df['Mileage_km'].mean())\n",
    "df['Power_HP'] = df['Power_HP'].fillna(df['Power_HP'].mean())\n",
    "df.isnull().sum()"
   ]
  },
  {
   "cell_type": "markdown",
   "id": "79f2704f-7fed-42e0-b4b2-8c5e95dffba7",
   "metadata": {},
   "source": [
    "# Exploring the Data"
   ]
  },
  {
   "cell_type": "markdown",
   "id": "d97cb1a1-e88a-47e3-af83-2f8b5a3a5345",
   "metadata": {},
   "source": [
    "First, let's find out which car manufacturer sold the most cars and generated the most revenue.  "
   ]
  },
  {
   "cell_type": "code",
   "execution_count": 7,
   "id": "a4a78142-f6b8-47a1-9c39-c43397067453",
   "metadata": {},
   "outputs": [
    {
     "data": {
      "text/plain": [
       "Volkswagen    18455\n",
       "BMW           16983\n",
       "Audi          16730\n",
       "Opel          16322\n",
       "Ford          16007\n",
       "Name: Vehicle_brand, dtype: int64"
      ]
     },
     "execution_count": 7,
     "metadata": {},
     "output_type": "execute_result"
    }
   ],
   "source": [
    "brand_count = df['Vehicle_brand'].value_counts()\n",
    "brand_count.head()"
   ]
  },
  {
   "cell_type": "markdown",
   "id": "ec8b757c-af6b-4966-9c59-3df784c14f0b",
   "metadata": {},
   "source": [
    "Convert back to a dataframe for use of use."
   ]
  },
  {
   "cell_type": "code",
   "execution_count": 8,
   "id": "9676efbd-1736-4848-ade6-2c699accdfad",
   "metadata": {},
   "outputs": [
    {
     "data": {
      "text/html": [
       "<div>\n",
       "<style scoped>\n",
       "    .dataframe tbody tr th:only-of-type {\n",
       "        vertical-align: middle;\n",
       "    }\n",
       "\n",
       "    .dataframe tbody tr th {\n",
       "        vertical-align: top;\n",
       "    }\n",
       "\n",
       "    .dataframe thead th {\n",
       "        text-align: right;\n",
       "    }\n",
       "</style>\n",
       "<table border=\"1\" class=\"dataframe\">\n",
       "  <thead>\n",
       "    <tr style=\"text-align: right;\">\n",
       "      <th></th>\n",
       "      <th>brand</th>\n",
       "      <th>count</th>\n",
       "    </tr>\n",
       "  </thead>\n",
       "  <tbody>\n",
       "    <tr>\n",
       "      <th>0</th>\n",
       "      <td>Volkswagen</td>\n",
       "      <td>18455</td>\n",
       "    </tr>\n",
       "    <tr>\n",
       "      <th>1</th>\n",
       "      <td>BMW</td>\n",
       "      <td>16983</td>\n",
       "    </tr>\n",
       "    <tr>\n",
       "      <th>2</th>\n",
       "      <td>Audi</td>\n",
       "      <td>16730</td>\n",
       "    </tr>\n",
       "    <tr>\n",
       "      <th>3</th>\n",
       "      <td>Opel</td>\n",
       "      <td>16322</td>\n",
       "    </tr>\n",
       "    <tr>\n",
       "      <th>4</th>\n",
       "      <td>Ford</td>\n",
       "      <td>16007</td>\n",
       "    </tr>\n",
       "  </tbody>\n",
       "</table>\n",
       "</div>"
      ],
      "text/plain": [
       "        brand  count\n",
       "0  Volkswagen  18455\n",
       "1         BMW  16983\n",
       "2        Audi  16730\n",
       "3        Opel  16322\n",
       "4        Ford  16007"
      ]
     },
     "execution_count": 8,
     "metadata": {},
     "output_type": "execute_result"
    }
   ],
   "source": [
    "brand_count = pd.DataFrame({'brand':brand_count.index, 'count':brand_count.values})\n",
    "brand_count.head()"
   ]
  },
  {
   "cell_type": "markdown",
   "id": "594c13ca-4fa6-42c1-9b19-16b0f8589333",
   "metadata": {},
   "source": [
    "Looking at the top 10 manufacturers for number of vehicles sold"
   ]
  },
  {
   "cell_type": "code",
   "execution_count": 16,
   "id": "457e3f01-8afa-4e1b-9eb9-2acaeb2421fa",
   "metadata": {},
   "outputs": [
    {
     "data": {
      "text/plain": [
       "[Text(0, 0, 'Volkswagen'),\n",
       " Text(1, 0, 'BMW'),\n",
       " Text(2, 0, 'Audi'),\n",
       " Text(3, 0, 'Opel'),\n",
       " Text(4, 0, 'Ford'),\n",
       " Text(5, 0, 'Mercedes-Benz'),\n",
       " Text(6, 0, 'Renault'),\n",
       " Text(7, 0, 'Toyota'),\n",
       " Text(8, 0, 'Škoda'),\n",
       " Text(9, 0, 'Peugeot')]"
      ]
     },
     "execution_count": 16,
     "metadata": {},
     "output_type": "execute_result"
    },
    {
     "data": {
      "image/png": "[encoded data removed]",
      "text/plain": [
       "<Figure size 432x288 with 1 Axes>"
      ]
     },
     "metadata": {
      "needs_background": "light"
     },
     "output_type": "display_data"
    }
   ],
   "source": [
    "top10_brand = brand_count[0:10]\n",
    "ax = sns.barplot(x = 'brand', y='count', data=top10_brand)\n",
    "ax.set_xticklabels(ax.get_xticklabels(),rotation = 30)"
   ]
  },
  {
   "cell_type": "markdown",
   "id": "91e97256-66bd-4f8f-b415-815cb4498553",
   "metadata": {},
   "source": [
    "We can see that unsurprisingly, the manufacturer that sold the most number of cars is Volkswagen followed by BWM and Audi. This was to be expected since these are some of the wealthiest car maniufacturers in the world. Next, we will determine the revenue for each manufacturer and display the top 10 as we just did with number of sales. "
   ]
  },
  {
   "cell_type": "code",
   "execution_count": 20,
   "id": "31fdfe2b-1730-4439-9b45-dd93acd3cc7c",
   "metadata": {},
   "outputs": [
    {
     "data": {
      "text/html": [
       "<div>\n",
       "<style scoped>\n",
       "    .dataframe tbody tr th:only-of-type {\n",
       "        vertical-align: middle;\n",
       "    }\n",
       "\n",
       "    .dataframe tbody tr th {\n",
       "        vertical-align: top;\n",
       "    }\n",
       "\n",
       "    .dataframe thead th {\n",
       "        text-align: right;\n",
       "    }\n",
       "</style>\n",
       "<table border=\"1\" class=\"dataframe\">\n",
       "  <thead>\n",
       "    <tr style=\"text-align: right;\">\n",
       "      <th></th>\n",
       "      <th>brand</th>\n",
       "      <th>revenue</th>\n",
       "    </tr>\n",
       "  </thead>\n",
       "  <tbody>\n",
       "    <tr>\n",
       "      <th>0</th>\n",
       "      <td>Abarth</td>\n",
       "      <td>3980714</td>\n",
       "    </tr>\n",
       "    <tr>\n",
       "      <th>1</th>\n",
       "      <td>Acura</td>\n",
       "      <td>1107349</td>\n",
       "    </tr>\n",
       "    <tr>\n",
       "      <th>2</th>\n",
       "      <td>Aixam</td>\n",
       "      <td>3024689</td>\n",
       "    </tr>\n",
       "    <tr>\n",
       "      <th>3</th>\n",
       "      <td>Alfa Romeo</td>\n",
       "      <td>93559151</td>\n",
       "    </tr>\n",
       "    <tr>\n",
       "      <th>4</th>\n",
       "      <td>Alpine</td>\n",
       "      <td>2028805</td>\n",
       "    </tr>\n",
       "  </tbody>\n",
       "</table>\n",
       "</div>"
      ],
      "text/plain": [
       "        brand   revenue\n",
       "0      Abarth   3980714\n",
       "1       Acura   1107349\n",
       "2       Aixam   3024689\n",
       "3  Alfa Romeo  93559151\n",
       "4      Alpine   2028805"
      ]
     },
     "execution_count": 20,
     "metadata": {},
     "output_type": "execute_result"
    }
   ],
   "source": [
    "total_rev = df.groupby('Vehicle_brand')['Price'].sum()\n",
    "total_rev = pd.DataFrame({'brand':total_rev.index, 'revenue':total_rev.values})\n",
    "total_rev.head()"
   ]
  },
  {
   "cell_type": "code",
   "execution_count": 26,
   "id": "760b2d8f-1d1e-4285-900b-d8facfe9fe38",
   "metadata": {},
   "outputs": [
    {
     "data": {
      "text/html": [
       "<div>\n",
       "<style scoped>\n",
       "    .dataframe tbody tr th:only-of-type {\n",
       "        vertical-align: middle;\n",
       "    }\n",
       "\n",
       "    .dataframe tbody tr th {\n",
       "        vertical-align: top;\n",
       "    }\n",
       "\n",
       "    .dataframe thead th {\n",
       "        text-align: right;\n",
       "    }\n",
       "</style>\n",
       "<table border=\"1\" class=\"dataframe\">\n",
       "  <thead>\n",
       "    <tr style=\"text-align: right;\">\n",
       "      <th></th>\n",
       "      <th>brand</th>\n",
       "      <th>revenue</th>\n",
       "    </tr>\n",
       "  </thead>\n",
       "  <tbody>\n",
       "    <tr>\n",
       "      <th>9</th>\n",
       "      <td>BMW</td>\n",
       "      <td>1711970986</td>\n",
       "    </tr>\n",
       "    <tr>\n",
       "      <th>6</th>\n",
       "      <td>Audi</td>\n",
       "      <td>1552196114</td>\n",
       "    </tr>\n",
       "    <tr>\n",
       "      <th>59</th>\n",
       "      <td>Mercedes-Benz</td>\n",
       "      <td>1387460080</td>\n",
       "    </tr>\n",
       "    <tr>\n",
       "      <th>99</th>\n",
       "      <td>Volkswagen</td>\n",
       "      <td>970161766</td>\n",
       "    </tr>\n",
       "    <tr>\n",
       "      <th>30</th>\n",
       "      <td>Ford</td>\n",
       "      <td>760191527</td>\n",
       "    </tr>\n",
       "  </tbody>\n",
       "</table>\n",
       "</div>"
      ],
      "text/plain": [
       "            brand     revenue\n",
       "9             BMW  1711970986\n",
       "6            Audi  1552196114\n",
       "59  Mercedes-Benz  1387460080\n",
       "99     Volkswagen   970161766\n",
       "30           Ford   760191527"
      ]
     },
     "execution_count": 26,
     "metadata": {},
     "output_type": "execute_result"
    }
   ],
   "source": [
    "total_rev.sort_values(by=['revenue'], ascending=False, inplace=True)\n",
    "total_rev.head()"
   ]
  },
  {
   "cell_type": "code",
   "execution_count": 30,
   "id": "1e84d896-2a9b-4ff3-947d-cb68d4a9a04e",
   "metadata": {},
   "outputs": [
    {
     "data": {
      "text/plain": [
       "[Text(0, 0, 'BMW'),\n",
       " Text(1, 0, 'Audi'),\n",
       " Text(2, 0, 'Mercedes-Benz'),\n",
       " Text(3, 0, 'Volkswagen'),\n",
       " Text(4, 0, 'Ford'),\n",
       " Text(5, 0, 'Škoda'),\n",
       " Text(6, 0, 'Opel'),\n",
       " Text(7, 0, 'Toyota'),\n",
       " Text(8, 0, 'Volvo'),\n",
       " Text(9, 0, 'Peugeot')]"
      ]
     },
     "execution_count": 30,
     "metadata": {},
     "output_type": "execute_result"
    },
    {
     "data": {
      "image/png": "[encoded data removed]",
      "text/plain": [
       "<Figure size 432x288 with 1 Axes>"
      ]
     },
     "metadata": {
      "needs_background": "light"
     },
     "output_type": "display_data"
    }
   ],
   "source": [
    "top10_rev = total_rev[0:10]\n",
    "ax = sns.barplot(x = 'brand', y='revenue', data=top10_rev)\n",
    "ax.set_xticklabels(ax.get_xticklabels(),rotation = 30)"
   ]
  },
  {
   "cell_type": "markdown",
   "id": "e113c16b-eae3-45f6-92f3-0aa004ada188",
   "metadata": {},
   "source": [
    "As we can see, we find a similar list to the top 10 number of cars sold. However, they are not all in the same order. This tells us that there may not be an exact correlation between the number of cars sold and the profit made. Of course, we would need to obtain more information about gross and net profits gained from overhead costs per unit sold etc. Further analysis can be done here to uncover more relationships if more data is found. "
   ]
  },
  {
   "cell_type": "markdown",
   "id": "a3902b66-9304-4373-bd4c-e27bc73db3cf",
   "metadata": {},
   "source": [
    "Next, lets look at some of the popular factors when buying a car and try to determine what the most popular kind of car is by colour, number of doors, and body type. We will, therefore, need to look at the most frequent combination of colour, numbers of doors, and body type."
   ]
  },
  {
   "cell_type": "code",
   "execution_count": 74,
   "id": "3bce7738-fd22-47a2-85f0-ed474614ebf1",
   "metadata": {},
   "outputs": [
    {
     "data": {
      "text/plain": [
       "Doors_number  Type           Colour\n",
       "5.0           SUV            black     10210\n",
       "              station_wagon  black     10186\n",
       "              SUV            white      7708\n",
       "              station_wagon  silver     6781\n",
       "              SUV            gray       6704\n",
       "                                       ...  \n",
       "4.0           small_cars     golden        1\n",
       "                             gray          1\n",
       "5.0           convertible    brown         1\n",
       "              coupe          beige         1\n",
       "55.0          station_wagon  black         1\n",
       "Length: 506, dtype: int64"
      ]
     },
     "execution_count": 74,
     "metadata": {},
     "output_type": "execute_result"
    }
   ],
   "source": [
    "df[['Doors_number','Type','Colour']].value_counts()"
   ]
  },
  {
   "cell_type": "markdown",
   "id": "e95eb70e-56e9-4946-bb5c-5c5ed9958bdd",
   "metadata": {},
   "source": [
    "We can see here that the most frequently bought car is a black SUV with 5 doors. followed by a station wagon in the same colour. "
   ]
  },
  {
   "cell_type": "markdown",
   "id": "687c9c94-9144-4ddf-821e-97ecdc8648f0",
   "metadata": {},
   "source": [
    "Next, we can use the numbers of features to determine if particular manufacturers provide better value for money i.e. which manufcaturers provide the most features for the lowest price. First, we will need to create a function to determine the number of features for each car/record. "
   ]
  },
  {
   "cell_type": "code",
   "execution_count": 102,
   "id": "75b29269-ceae-493f-850a-8cb57c0ddb27",
   "metadata": {},
   "outputs": [],
   "source": [
    "def num_features(x):\n",
    "    \n",
    "    num = x.split(',')\n",
    "    \n",
    "    return(len(num)-1)"
   ]
  },
  {
   "cell_type": "markdown",
   "id": "0b6fd2b4-87cc-4b03-b349-79e7925922ff",
   "metadata": {},
   "source": [
    "Now we have created our function, we can apply it to the features column and create a new column with the number of features."
   ]
  },
  {
   "cell_type": "code",
   "execution_count": 106,
   "id": "44da580a-f88e-4609-b660-d406bfc62bbd",
   "metadata": {},
   "outputs": [],
   "source": [
    "df['Number_of_features'] = df['Features'].apply(lambda x: num_features(x))"
   ]
  },
  {
   "cell_type": "markdown",
   "id": "be4f50a6-64b9-4f1d-a7fb-586ab5f3a332",
   "metadata": {},
   "source": [
    "Next, we need to calculate the average number of features found for each manufacturer. To do this we can group by the manufacter and get the mean for the number of features."
   ]
  },
  {
   "cell_type": "code",
   "execution_count": 116,
   "id": "327bf7e9-4ae4-43e5-9281-c0b626f39eaf",
   "metadata": {},
   "outputs": [
    {
     "data": {
      "text/html": [
       "<div>\n",
       "<style scoped>\n",
       "    .dataframe tbody tr th:only-of-type {\n",
       "        vertical-align: middle;\n",
       "    }\n",
       "\n",
       "    .dataframe tbody tr th {\n",
       "        vertical-align: top;\n",
       "    }\n",
       "\n",
       "    .dataframe thead th {\n",
       "        text-align: right;\n",
       "    }\n",
       "</style>\n",
       "<table border=\"1\" class=\"dataframe\">\n",
       "  <thead>\n",
       "    <tr style=\"text-align: right;\">\n",
       "      <th></th>\n",
       "      <th>brand</th>\n",
       "      <th>number of features</th>\n",
       "    </tr>\n",
       "  </thead>\n",
       "  <tbody>\n",
       "    <tr>\n",
       "      <th>0</th>\n",
       "      <td>Abarth</td>\n",
       "      <td>22.254237</td>\n",
       "    </tr>\n",
       "    <tr>\n",
       "      <th>1</th>\n",
       "      <td>Acura</td>\n",
       "      <td>37.437500</td>\n",
       "    </tr>\n",
       "    <tr>\n",
       "      <th>2</th>\n",
       "      <td>Aixam</td>\n",
       "      <td>3.891156</td>\n",
       "    </tr>\n",
       "    <tr>\n",
       "      <th>3</th>\n",
       "      <td>Alfa Romeo</td>\n",
       "      <td>28.033962</td>\n",
       "    </tr>\n",
       "    <tr>\n",
       "      <th>4</th>\n",
       "      <td>Alpine</td>\n",
       "      <td>32.000000</td>\n",
       "    </tr>\n",
       "  </tbody>\n",
       "</table>\n",
       "</div>"
      ],
      "text/plain": [
       "        brand  number of features\n",
       "0      Abarth           22.254237\n",
       "1       Acura           37.437500\n",
       "2       Aixam            3.891156\n",
       "3  Alfa Romeo           28.033962\n",
       "4      Alpine           32.000000"
      ]
     },
     "execution_count": 116,
     "metadata": {},
     "output_type": "execute_result"
    }
   ],
   "source": [
    "features = df.groupby('Vehicle_brand')['Number_of_features'].mean()\n",
    "features = pd.DataFrame({'brand':features.index, 'number of features':features.values})\n",
    "features.sort_values(by=['brand'], ascending=True, inplace=True)\n",
    "features.head()"
   ]
  },
  {
   "cell_type": "markdown",
   "id": "17e81f38-5b31-4412-affb-d5628982c515",
   "metadata": {},
   "source": [
    "Next, we can compare the average price of a car sold by that manufacturer by the number of features to get a metric which will represent the number of features compared to cost. We will get the average cost per car from each manufacturer and add this to our feature dataframe.  "
   ]
  },
  {
   "cell_type": "code",
   "execution_count": 133,
   "id": "9b22590e-5641-4ee4-86d6-bc089e9db8bc",
   "metadata": {},
   "outputs": [
    {
     "data": {
      "text/html": [
       "<div>\n",
       "<style scoped>\n",
       "    .dataframe tbody tr th:only-of-type {\n",
       "        vertical-align: middle;\n",
       "    }\n",
       "\n",
       "    .dataframe tbody tr th {\n",
       "        vertical-align: top;\n",
       "    }\n",
       "\n",
       "    .dataframe thead th {\n",
       "        text-align: right;\n",
       "    }\n",
       "</style>\n",
       "<table border=\"1\" class=\"dataframe\">\n",
       "  <thead>\n",
       "    <tr style=\"text-align: right;\">\n",
       "      <th></th>\n",
       "      <th>brand</th>\n",
       "      <th>number of features</th>\n",
       "      <th>mean_price</th>\n",
       "    </tr>\n",
       "  </thead>\n",
       "  <tbody>\n",
       "    <tr>\n",
       "      <th>0</th>\n",
       "      <td>Abarth</td>\n",
       "      <td>22.254237</td>\n",
       "      <td>67469.728814</td>\n",
       "    </tr>\n",
       "    <tr>\n",
       "      <th>1</th>\n",
       "      <td>Acura</td>\n",
       "      <td>37.437500</td>\n",
       "      <td>69209.312500</td>\n",
       "    </tr>\n",
       "    <tr>\n",
       "      <th>2</th>\n",
       "      <td>Aixam</td>\n",
       "      <td>3.891156</td>\n",
       "      <td>20576.115646</td>\n",
       "    </tr>\n",
       "    <tr>\n",
       "      <th>3</th>\n",
       "      <td>Alfa Romeo</td>\n",
       "      <td>28.033962</td>\n",
       "      <td>70610.680000</td>\n",
       "    </tr>\n",
       "    <tr>\n",
       "      <th>4</th>\n",
       "      <td>Alpine</td>\n",
       "      <td>32.000000</td>\n",
       "      <td>289829.285714</td>\n",
       "    </tr>\n",
       "  </tbody>\n",
       "</table>\n",
       "</div>"
      ],
      "text/plain": [
       "        brand  number of features     mean_price\n",
       "0      Abarth           22.254237   67469.728814\n",
       "1       Acura           37.437500   69209.312500\n",
       "2       Aixam            3.891156   20576.115646\n",
       "3  Alfa Romeo           28.033962   70610.680000\n",
       "4      Alpine           32.000000  289829.285714"
      ]
     },
     "execution_count": 133,
     "metadata": {},
     "output_type": "execute_result"
    }
   ],
   "source": [
    "mean_price = df.groupby('Vehicle_brand')['Price'].mean()\n",
    "mean_price = mean_price.sort_index()\n",
    "mean_price = mean_price.values\n",
    "features['mean_price'] = mean_price\n",
    "features.head()"
   ]
  },
  {
   "cell_type": "markdown",
   "id": "9661d656-77d6-4e25-93a8-c9dff4276cf1",
   "metadata": {},
   "source": [
    "Finally, we can create a new column where we divide the average price by the number of features to get an average 'cost per feature' metric. The lowest this number, the greater number of features you are likely to get for your money. "
   ]
  },
  {
   "cell_type": "code",
   "execution_count": 137,
   "id": "51874074-2499-4453-ba09-dbb402bfa22b",
   "metadata": {},
   "outputs": [],
   "source": [
    "features['cost per feature'] = features['mean_price']/features['number of features']"
   ]
  },
  {
   "cell_type": "code",
   "execution_count": 145,
   "id": "1dbcf6cb-2434-4a24-bf3d-6a6d429d68ed",
   "metadata": {},
   "outputs": [],
   "source": [
    "features = features.sort_values(by=['cost per feature'], ascending=True)"
   ]
  },
  {
   "cell_type": "markdown",
   "id": "f94128b6-4412-4b4c-8d2d-db04b1bb0fa8",
   "metadata": {},
   "source": [
    "Lets plot the top 10 manufacturers for value for money when it comes to features."
   ]
  },
  {
   "cell_type": "code",
   "execution_count": 146,
   "id": "9703b433-6d1b-4531-8511-d26a1f9a829a",
   "metadata": {},
   "outputs": [
    {
     "data": {
      "text/plain": [
       "[Text(0, 0, 'Scion'),\n",
       " Text(1, 0, 'Rover'),\n",
       " Text(2, 0, 'Saab'),\n",
       " Text(3, 0, 'FAW'),\n",
       " Text(4, 0, 'Daihatsu'),\n",
       " Text(5, 0, 'Daewoo'),\n",
       " Text(6, 0, 'Saturn'),\n",
       " Text(7, 0, 'Lancia'),\n",
       " Text(8, 0, 'Tata'),\n",
       " Text(9, 0, 'Citroën')]"
      ]
     },
     "execution_count": 146,
     "metadata": {},
     "output_type": "execute_result"
    },
    {
     "data": {
      "image/png": "[encoded data removed]",
      "text/plain": [
       "<Figure size 432x288 with 1 Axes>"
      ]
     },
     "metadata": {
      "needs_background": "light"
     },
     "output_type": "display_data"
    }
   ],
   "source": [
    "top10_features = features[0:10]\n",
    "ax = sns.barplot(x = 'brand', y='cost per feature', data=top10_features)\n",
    "ax.set_xticklabels(ax.get_xticklabels(),rotation = 30)"
   ]
  },
  {
   "cell_type": "markdown",
   "id": "0632c828-691d-450c-bd75-801af48e2ba4",
   "metadata": {},
   "source": [
    "In this case we see quite a different list to our previous bar plots. We can see that Scion, Rover and Saab are at the top of the score board when it comes to bang for your buck if you are looking for features!"
   ]
  },
  {
   "cell_type": "markdown",
   "id": "e571a81c-ce75-4cd5-be5e-436815354c3a",
   "metadata": {},
   "source": [
    "There are obviously many more relationships we could draw from this dataset if wanted to. Such as any correlations between price and mileage, in which countries are particular vehicles sold most, and so on. Such exploration could uncover insight into social and demographic behaviours as well as the automotive market. "
   ]
  }
 ],
 "metadata": {
  "kernelspec": {
   "display_name": "Python 3",
   "language": "python",
   "name": "python3"
  },
  "language_info": {
   "codemirror_mode": {
    "name": "ipython",
    "version": 3
   },
   "file_extension": ".py",
   "mimetype": "text/x-python",
   "name": "python",
   "nbconvert_exporter": "python",
   "pygments_lexer": "ipython3",
   "version": "3.8.8"
  }
 },
 "nbformat": 4,
 "nbformat_minor": 5
}
